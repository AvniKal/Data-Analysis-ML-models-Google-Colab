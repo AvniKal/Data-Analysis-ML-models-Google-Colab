{
  "nbformat": 4,
  "nbformat_minor": 0,
  "metadata": {
    "colab": {
      "provenance": [],
      "include_colab_link": true
    },
    "kernelspec": {
      "name": "python3",
      "display_name": "Python 3"
    },
    "language_info": {
      "name": "python"
    }
  },
  "cells": [
    {
      "cell_type": "markdown",
      "metadata": {
        "id": "view-in-github",
        "colab_type": "text"
      },
      "source": [
        "<a href=\"https://colab.research.google.com/github/AvniKal/Data-Analysis-ML-models-Google-Colab/blob/main/Assignment_1_DSA.ipynb\" target=\"_parent\"><img src=\"https://colab.research.google.com/assets/colab-badge.svg\" alt=\"Open In Colab\"/></a>"
      ]
    },
    {
      "cell_type": "markdown",
      "metadata": {
        "id": "b2f97141"
      },
      "source": [
        "**Arrays/Lists**\n",
        "\n",
        "Given a list of integers, find the maximum and minimum elements in the list. Don't use min and max function"
      ]
    },
    {
      "cell_type": "code",
      "source": [
        "mylist=[]\n",
        "n=int(input(\"enter a number\"))\n",
        "for i in range(n):\n",
        "    a=int(input(\"enter a number\"))\n",
        "    mylist.append(a)\n",
        "\n",
        "max=mylist[0]\n",
        "min=mylist[0]\n",
        "for i in mylist:\n",
        "    if i>max:\n",
        "        max=i\n",
        "    elif i<min:\n",
        "        min=i\n",
        "\n",
        "print(\"max is \",max)\n",
        "print(\"min is \",min)\n"
      ],
      "metadata": {
        "id": "0sRxzLDxwX3Y",
        "colab": {
          "base_uri": "https://localhost:8080/"
        },
        "outputId": "79745825-b17f-4323-fc46-ba2a721b1293"
      },
      "execution_count": null,
      "outputs": [
        {
          "output_type": "stream",
          "name": "stdout",
          "text": [
            "enter a number10\n",
            "enter a number22\n",
            "enter a number23\n",
            "enter a number55\n",
            "enter a number100\n",
            "enter a number250\n",
            "enter a number1\n",
            "enter a number3\n",
            "enter a number22\n",
            "enter a number78\n",
            "enter a number99\n",
            "max is  250\n",
            "min is  1\n"
          ]
        }
      ]
    },
    {
      "cell_type": "markdown",
      "metadata": {
        "id": "c1317748"
      },
      "source": [
        "**Strings**\n",
        "\n",
        "Given a string, determine if it is a palindrome (reads the same forwards and backwards). Consider case sensitivity and spaces.\n",
        "\n",
        "Give 1 program with slicing and another program without slicing method"
      ]
    },
    {
      "cell_type": "code",
      "source": [
        "a=input(\"enter a string \")\n",
        "w=\"\"\n",
        "for i in range(len(a)):\n",
        "    w=a[i]+w\n",
        "\n",
        "if w==a:\n",
        "    print(\"palindrome\")\n",
        "else:\n",
        "    print(\"not palindrome\")"
      ],
      "metadata": {
        "id": "4HKXOjvhwZwk",
        "colab": {
          "base_uri": "https://localhost:8080/"
        },
        "outputId": "193746e6-23ec-40b3-f337-7bce728eab92"
      },
      "execution_count": null,
      "outputs": [
        {
          "output_type": "stream",
          "name": "stdout",
          "text": [
            "enter a string zzazz\n",
            "palindrome\n"
          ]
        }
      ]
    },
    {
      "cell_type": "code",
      "source": [
        "a=input(\"enter a string \")\n",
        "w=\"\"\n",
        "for i in a:\n",
        "    w=i+w\n",
        "\n",
        "if w==a:\n",
        "    print(\"palindrome\")\n",
        "else:\n",
        "    print(\"not palindrome\")"
      ],
      "metadata": {
        "id": "ECO9P2z_CzEs",
        "colab": {
          "base_uri": "https://localhost:8080/"
        },
        "outputId": "bb5c6433-9cd4-43e5-beea-da61cbe1ab9b"
      },
      "execution_count": null,
      "outputs": [
        {
          "output_type": "stream",
          "name": "stdout",
          "text": [
            "enter a string mango\n",
            "not palindrome\n"
          ]
        }
      ]
    },
    {
      "cell_type": "markdown",
      "metadata": {
        "id": "af6952db"
      },
      "source": [
        "**Lists:**\n",
        "\n",
        "*   Find the second largest element in a list.\n",
        "*   Find all duplicate elements in a list.\n",
        "*   Given a list of numbers, find the sum of all even numbers."
      ]
    },
    {
      "cell_type": "code",
      "source": [
        "mylist=[]\n",
        "n=int(input(\"enter a number\"))\n",
        "for i in range(n):\n",
        "    a=int(input(\"enter a number\"))\n",
        "    mylist.append(a)\n",
        "\n",
        "l=mylist[0]\n",
        "sl=mylist[0]\n",
        "s=0\n",
        "for i in mylist:\n",
        "     if (i>l):\n",
        "          sl=l\n",
        "          l=i\n",
        "     elif i>sl:\n",
        "          sl=i\n",
        "     elif (i%2==0):\n",
        "          s=s+i\n",
        "\n",
        "print(\"second largest element is \",sl)\n",
        "print(\"sum of even numbers is \",s)\n",
        "\n",
        "print(\"duplicate elements are \")\n",
        "newlist=[]\n",
        "for i in mylist:\n",
        "     if i not in newlist:\n",
        "          newlist.append(i)\n",
        "     else:\n",
        "          print(i,\" \",end='')"
      ],
      "metadata": {
        "id": "lg0pKcoPZrw1",
        "colab": {
          "base_uri": "https://localhost:8080/"
        },
        "outputId": "bf933b7f-d414-4c8d-d49b-f79fe8dab0ea"
      },
      "execution_count": null,
      "outputs": [
        {
          "output_type": "stream",
          "name": "stdout",
          "text": [
            "enter a number9\n",
            "enter a number2\n",
            "enter a number3\n",
            "enter a number45\n",
            "enter a number3\n",
            "enter a number67\n",
            "enter a number8\n",
            "enter a number45\n",
            "enter a number8\n",
            "enter a number7\n",
            "second largest element is  45\n",
            "sum of even numbers is  18\n",
            "duplicate elements are \n",
            "3  45  8  "
          ]
        }
      ]
    },
    {
      "cell_type": "markdown",
      "metadata": {
        "id": "624e338e"
      },
      "source": [
        "**Tuples:**\n",
        "\n",
        "*   Find the element with the longest string representation in a tuple of mixed data types.\n",
        "*   Given a tuple of numbers, find the average of all elements."
      ]
    },
    {
      "cell_type": "code",
      "source": [
        "mytu1=eval(input(\"enter a tuple of mixed datatypes\"))\n",
        "mytu2=eval(input(\"enter a tuple of numbers\"))\n",
        "\n",
        "s=0\n",
        "c=0\n",
        "for i in mytu2:\n",
        "     s=s+i\n",
        "     c=c+1\n",
        "\n",
        "print(\"average of numbers is \",s/c)\n",
        "\n",
        "l=0\n",
        "ele=''\n",
        "for i in mytu1:\n",
        "     if isinstance(i,str):\n",
        "          c=0\n",
        "          for j in i:\n",
        "               c=c+1\n",
        "\n",
        "          if (c>l):\n",
        "             l=c\n",
        "             ele=i\n",
        "\n",
        "print(\"longest element is\",ele)"
      ],
      "metadata": {
        "id": "ihxaRg4n-4LL",
        "colab": {
          "base_uri": "https://localhost:8080/"
        },
        "outputId": "6462adfd-812e-49fd-ca95-72c4cd9fd860"
      },
      "execution_count": null,
      "outputs": [
        {
          "output_type": "stream",
          "name": "stdout",
          "text": [
            "enter a tuple of mixed datatypes(2,3,4.5,'okay',['hurray','finally'])\n",
            "enter a tuple of numbers(1,2,3,4,5)\n",
            "average of numbers is  3.0\n",
            "longest element is okay\n"
          ]
        }
      ]
    },
    {
      "cell_type": "markdown",
      "metadata": {
        "id": "d13e9955"
      },
      "source": [
        "**Sets:**\n",
        "\n",
        "*   Find the common elements between two sets.\n",
        "*   Find the unique elements in a set of numbers."
      ]
    },
    {
      "cell_type": "code",
      "source": [
        "set_a=eval(input(\"enter a set\"))\n",
        "set_b=eval(input(\"enter a set\"))\n",
        "# set contains only unique elements\n",
        "print(\"common elements in the set are\",set_a.intersection(set_b))"
      ],
      "metadata": {
        "id": "AlkbnGEUZsvJ",
        "colab": {
          "base_uri": "https://localhost:8080/"
        },
        "outputId": "d170eefe-efa3-4b68-946b-8a9d5f26b56e"
      },
      "execution_count": null,
      "outputs": [
        {
          "output_type": "stream",
          "name": "stdout",
          "text": [
            "enter a set{1,2,3}\n",
            "enter a set{2,3,4}\n",
            "common elements in the set are {2, 3}\n"
          ]
        }
      ]
    },
    {
      "cell_type": "markdown",
      "metadata": {
        "id": "89604a94"
      },
      "source": [
        "**Strings:**\n",
        "\n",
        "*   Find the most frequent character in a string.\n",
        "*   Check if a string contains only digits.\n",
        "*   Count the number of vowels in a string."
      ]
    },
    {
      "cell_type": "code",
      "source": [
        "a=input(\"enter a string\")\n",
        "\n",
        "if a.isdigit():\n",
        "    print(\"the string contains only digits\")\n",
        "else:\n",
        "    print(\"the string does not contain only digits\")\n",
        "\n",
        "c=0\n",
        "hash={}\n",
        "for i in a:\n",
        "    if i in \"aeiouAEIOU\":\n",
        "        c=c+1\n",
        "\n",
        "    if i not in hash:\n",
        "        hash[i]=1\n",
        "        l=i\n",
        "    else:\n",
        "        hash[i]+=1\n",
        "\n",
        "print(\"number of vowels is\",c)\n",
        "\n",
        "\n",
        "for key in hash:\n",
        "    if (hash[key]>hash[l]):\n",
        "        l=key\n",
        "\n",
        "print(\"most frequent character is \",l)"
      ],
      "metadata": {
        "id": "onUDYiEqZtPR",
        "colab": {
          "base_uri": "https://localhost:8080/"
        },
        "outputId": "55c635db-8d26-46aa-a6a1-d91a8d1215fd"
      },
      "execution_count": null,
      "outputs": [
        {
          "output_type": "stream",
          "name": "stdout",
          "text": [
            "enter a string123123abcabcaaa\n",
            "the string does not contain only digits\n",
            "number of vowels is 5\n",
            "most frequent character is  a\n"
          ]
        }
      ]
    },
    {
      "cell_type": "markdown",
      "metadata": {
        "id": "cc054fe1"
      },
      "source": [
        "**Dictionaries:**\n",
        "\n",
        "*   Find the key with the maximum value in a dictionary.\n",
        "*   Find all keys in a dictionary that have a value greater than a certain threshold.\n",
        "*   Given a dictionary where keys are names and values are ages, find the name of the oldest person."
      ]
    },
    {
      "cell_type": "code",
      "source": [
        "mydic={}\n",
        "n=int(input(\"enter a number\"))\n",
        "for i in range(n):\n",
        "    key=input(\"enter a name\")\n",
        "    value=int(input(\"enter a number\"))\n",
        "    mydic[key]=value\n",
        "    l=key\n",
        "\n",
        "thres=int(input(\"enter the threshold\"))\n",
        "flag=0\n",
        "print(\"values greater than threshold are\")\n",
        "for i in mydic:\n",
        "    if mydic[i] > mydic[l]:\n",
        "        l=i\n",
        "\n",
        "    if mydic[i]>thres:\n",
        "        print(i,' ',end='')\n",
        "        flag=1\n",
        "print()\n",
        "if(flag==0):\n",
        "    print(\"no value beyond threshold\")\n",
        "\n",
        "print(\"oldest person is \",l)"
      ],
      "metadata": {
        "id": "M4IdRGrUZhxN",
        "colab": {
          "base_uri": "https://localhost:8080/"
        },
        "outputId": "d09b3ead-a083-4349-fe9b-4e5029c70fdd"
      },
      "execution_count": null,
      "outputs": [
        {
          "output_type": "stream",
          "name": "stdout",
          "text": [
            "enter a number4\n",
            "enter a nameavni\n",
            "enter a number21\n",
            "enter a namekashis\n",
            "enter a number22\n",
            "enter a namemahi\n",
            "enter a number24\n",
            "enter a nameriddhi\n",
            "enter a number19\n",
            "enter the threshold21\n",
            "values greater than threshold are\n",
            "kashis  mahi  \n",
            "oldest person is  mahi\n"
          ]
        }
      ]
    },
    {
      "cell_type": "markdown",
      "metadata": {
        "id": "be79eab2"
      },
      "source": [
        "**Problem 3: Linked Lists**\n",
        "\n",
        "Given a singly linked list, reverse the list."
      ]
    },
    {
      "cell_type": "code",
      "source": [
        "class node:\n",
        "    def __init__(self,data1,next1=None):  #constructor\n",
        "        self.data=data1\n",
        "        self.next=next1\n",
        "\n",
        "#reverse\n",
        "def reverse_ll(head):\n",
        "   temp=head\n",
        "   prev=None\n",
        "   while temp is not None:\n",
        "       next_node=temp.next\n",
        "       temp.next=prev\n",
        "       prev=temp\n",
        "       temp=next_node\n",
        "\n",
        "   return prev\n",
        "\n",
        "#print reverse ll\n",
        "def print_ll(head):\n",
        "      temp=head\n",
        "      while temp:\n",
        "          print(temp.data,\" \", end=' ')\n",
        "          temp=temp.next\n",
        "\n",
        "\n",
        "#make a ll\n",
        "arr=[12,8,5,7]\n",
        "head=node(arr[0])\n",
        "head.next=node(arr[1])\n",
        "head.next.next=node(arr[2])\n",
        "head.next.next.next=node(arr[3])\n",
        "\n",
        "reverse_head=reverse_ll(head)\n",
        "print_ll(reverse_head)"
      ],
      "metadata": {
        "id": "wd-LRKrTwcCz",
        "colab": {
          "base_uri": "https://localhost:8080/"
        },
        "outputId": "9b82d48d-d9e6-4f08-d0de-d28a4a75e619"
      },
      "execution_count": null,
      "outputs": [
        {
          "output_type": "stream",
          "name": "stdout",
          "text": [
            "7   5   8   12   "
          ]
        }
      ]
    },
    {
      "cell_type": "markdown",
      "metadata": {
        "id": "72b88eaf"
      },
      "source": [
        "**Problem 4: Stacks**\n",
        "\n",
        "Implement a function that checks if a given string of parentheses, brackets, and braces is balanced. For example, \"([]) {}\" is balanced, but \"([)]\" is not."
      ]
    },
    {
      "cell_type": "code",
      "source": [
        "def balanced(a):\n",
        "    s=[]\n",
        "    match={')':'(','}':'{',']':'['}\n",
        "\n",
        "    for i in a:\n",
        "        if i in '({[':\n",
        "            s.append(i)\n",
        "        else:\n",
        "            if i in ')]}':\n",
        "                if s[-1]!=match[i] or not s:\n",
        "                    return False\n",
        "                s.pop()\n",
        "\n",
        "    return not s\n",
        "\n",
        "s=input(\"enter a string\")\n",
        "if balanced(s):\n",
        "    print(\"balanced\")\n",
        "else:\n",
        "    print(\"not balanced\")"
      ],
      "metadata": {
        "id": "ihZc5HJowcqq",
        "colab": {
          "base_uri": "https://localhost:8080/"
        },
        "outputId": "eb7ee132-30ea-4c30-fb61-302d4f320cf7"
      },
      "execution_count": null,
      "outputs": [
        {
          "output_type": "stream",
          "name": "stdout",
          "text": [
            "enter a string({[]})\n",
            "balanced\n"
          ]
        }
      ]
    },
    {
      "cell_type": "markdown",
      "metadata": {
        "id": "98f82df4"
      },
      "source": [
        "**Problem 5: Queues**\n",
        "\n",
        "Implement a queue using two stacks. Explain the logic behind your implementation."
      ]
    },
    {
      "cell_type": "markdown",
      "source": [
        "in case the second stack is empty, to get the 1st element (top) i'll first send all the elements of s1 to s2 . now the first element of s1 is actually at the last in s2. thus i can pop and remove the last element from s2."
      ],
      "metadata": {
        "id": "ui7MtSxr_wXp"
      }
    },
    {
      "cell_type": "code",
      "source": [
        "s1=[]\n",
        "s2=[]\n",
        "\n",
        "def push(x):\n",
        "    s1.append(x)\n",
        "\n",
        "def pop():\n",
        "    global s1,s2\n",
        "    if s2:\n",
        "         s2.pop()\n",
        "    else:\n",
        "         while s1:\n",
        "              s2.append(s1[-1])\n",
        "              s1.pop()\n",
        "\n",
        "         s2.pop()\n",
        "\n",
        "def top():\n",
        "     global s1,s2\n",
        "     if s2:\n",
        "          return s2[-1]\n",
        "     else:\n",
        "          while(s1):\n",
        "              s2.append(s1[-1])\n",
        "              s1.pop()\n",
        "\n",
        "          return s2[-1]\n",
        "\n",
        "\n",
        "push(2)\n",
        "push(3)\n",
        "push(4)\n",
        "push(5)\n",
        "print(top(),\" \")\n",
        "print(top(),\" \")\n",
        "pop()\n",
        "push(1)\n",
        "pop()\n",
        "pop()\n",
        "print(\"s1:\",s1)\n",
        "print(\"s2:\",s2)"
      ],
      "metadata": {
        "id": "ekW77yRswdLh",
        "colab": {
          "base_uri": "https://localhost:8080/"
        },
        "outputId": "0544d772-3124-4e41-cb56-bb8226f5349a"
      },
      "execution_count": null,
      "outputs": [
        {
          "output_type": "stream",
          "name": "stdout",
          "text": [
            "2  \n",
            "2  \n",
            "s1: [1]\n",
            "s2: [5]\n"
          ]
        }
      ]
    },
    {
      "cell_type": "markdown",
      "metadata": {
        "id": "8b839a36"
      },
      "source": [
        "**Problem 6: Trees (Binary Trees)**\n",
        "\n",
        "Given the root of a binary tree, perform an in-order traversal (left, root, right) and return the elements in a list."
      ]
    },
    {
      "cell_type": "code",
      "source": [
        "class node:\n",
        "    def __init__(self,value):\n",
        "        self.data=value\n",
        "        self.left=None\n",
        "        self.right=None\n",
        "\n",
        "def in_order_traversal(node):\n",
        "    if(node==None):\n",
        "        return\n",
        "    in_order_traversal(node.left)\n",
        "    print(node.data,\" \",end='')\n",
        "    in_order_traversal(node.right)\n",
        "\n",
        "\n",
        "root=node(1)\n",
        "root.left=node(2)\n",
        "root.left.left=node(4)\n",
        "root.left.right=node(5)\n",
        "root.right=node(3)\n",
        "root.right.left=node(6)\n",
        "root.right.right=node(7)\n",
        "in_order_traversal(root)"
      ],
      "metadata": {
        "id": "BWUazf0Mwdm5",
        "colab": {
          "base_uri": "https://localhost:8080/"
        },
        "outputId": "ea1ed6f9-a975-4630-e9c0-fde1a9a7b44c"
      },
      "execution_count": null,
      "outputs": [
        {
          "output_type": "stream",
          "name": "stdout",
          "text": [
            "4  2  5  1  6  3  7  "
          ]
        }
      ]
    },
    {
      "cell_type": "markdown",
      "metadata": {
        "id": "c47a8555"
      },
      "source": [
        "**Problem 7: Hash Tables/Dictionaries**\n",
        "\n",
        "Given a list of integers, find the first non-repeating integer. Use a hash table (dictionary in Python) to solve this efficiently."
      ]
    },
    {
      "cell_type": "code",
      "source": [
        "mylist=[]\n",
        "n=int(input(\"enter a number\"))\n",
        "for i in range(n):\n",
        "    a=int(input(\"enter a number\"))\n",
        "    mylist.append(a)\n",
        "\n",
        "hash={}\n",
        "for i in mylist:\n",
        "    if i not in hash:\n",
        "        hash[i]=1\n",
        "    else:\n",
        "        hash[i]+=1\n",
        "\n",
        "flag=0\n",
        "for i in hash:\n",
        "    if hash[i]==1:\n",
        "        flag=1\n",
        "        break\n",
        "print(\"first non-repeating integer is\",i)"
      ],
      "metadata": {
        "id": "MzixdLTlweKI",
        "colab": {
          "base_uri": "https://localhost:8080/"
        },
        "outputId": "191a0ae9-8218-45fb-a679-74553e4b2f65"
      },
      "execution_count": null,
      "outputs": [
        {
          "output_type": "stream",
          "name": "stdout",
          "text": [
            "enter a number5\n",
            "enter a number2\n",
            "enter a number3\n",
            "enter a number3\n",
            "enter a number4\n",
            "enter a number6\n",
            "first non-repeating integer is 2\n"
          ]
        }
      ]
    }
  ]
}